{
  "nbformat": 4,
  "nbformat_minor": 0,
  "metadata": {
    "colab": {
      "provenance": [],
      "include_colab_link": true
    },
    "kernelspec": {
      "name": "python3",
      "display_name": "Python 3"
    },
    "language_info": {
      "name": "python"
    }
  },
  "cells": [
    {
      "cell_type": "markdown",
      "metadata": {
        "id": "view-in-github",
        "colab_type": "text"
      },
      "source": [
        "<a href=\"https://colab.research.google.com/github/Joselyn0227/TrabajosJoselyn/blob/main/Ejercicios.ipynb\" target=\"_parent\"><img src=\"https://colab.research.google.com/assets/colab-badge.svg\" alt=\"Open In Colab\"/></a>"
      ]
    },
    {
      "cell_type": "markdown",
      "source": [
        "# EJERCICIOS PROPUESTOS"
      ],
      "metadata": {
        "id": "HGD5rhV6EuyN"
      }
    },
    {
      "cell_type": "markdown",
      "source": [
        "## OBJETIVO"
      ],
      "metadata": {
        "id": "OukVdcn2E1PE"
      }
    },
    {
      "cell_type": "markdown",
      "source": [
        "Incrementar la comprensión del Lenguaje Python a través de Ejercicios Prácticos que desarrollaran a lo largo del Semestre.\n",
        "Las personas a responder se asignarán mediante la Rueda de la Fortuna.\n",
        "El valor, de cada persona que muestre su solución, es 1 unidad."
      ],
      "metadata": {
        "id": "q2kyqrZWE-OM"
      }
    },
    {
      "cell_type": "markdown",
      "metadata": {
        "id": "XfxgeW0XhXGB"
      },
      "source": [
        "### **Ejercicio**\n",
        "\n",
        "1. 3 - 3 + 3 ** 2 * 3 / 3 =\n",
        "\n",
        "2. 3 * 3 - 3 + 3 * 3 / 3 + 3 =\n",
        "\n",
        "Tener presente los Operadores aritmeticos: Orden Jerarquía.\n",
        "\n",
        "3. Realize un algoritmo que capture 4 notas del mismo porcentaje, calcule el promedio y determine si gana o pierde la materia.\n",
        "\n",
        "4.  Cree una lista y luego borre un elemento de la lista.\n",
        "\n",
        "5. Agregue un nombre cualquiera a la lista.\n",
        "\n",
        "6. Ordene los elementos de la lista de menor a mayor.\n",
        "\n",
        "\n",
        "\n"
      ]
    },
    {
      "cell_type": "code",
      "source": [
        "# Definimos la expresión\n",
        "ejercicio = \"3 - 3 + 3 ** 2 * 3 / 3\"\n",
        "\n",
        "# Evaluamos la expresión\n",
        "resultado = 3 - 3 + 3 ** 2 * 3 / 3\n",
        "\n",
        "# Explicación paso a paso\n",
        "explicacion = \"\"\"\n",
        "Paso 1: Exponentes primero → 3 ** 2 = 9\n",
        "Paso 2: Multiplicación → 9 * 3 = 27\n",
        "Paso 3: División → 27 / 3 = 9\n",
        "Paso 4: Suma y resta de izquierda a derecha → 3 - 3 + 9 = 9\n",
        "\"\"\"\n",
        "\n",
        "# Imprimir todo\n",
        "print(\"Ejercicio:\", ejercicio)\n",
        "print(\"Resultado:\", resultado)\n",
        "print(\"Explicación:\", explicacion)\n"
      ],
      "metadata": {
        "id": "FmVTiJjZFBsa",
        "outputId": "34c07c42-0a69-427c-8a45-546895719edc",
        "colab": {
          "base_uri": "https://localhost:8080/"
        }
      },
      "execution_count": 1,
      "outputs": [
        {
          "output_type": "stream",
          "name": "stdout",
          "text": [
            "Ejercicio: 3 - 3 + 3 ** 2 * 3 / 3\n",
            "Resultado: 9.0\n",
            "Explicación: \n",
            "Paso 1: Exponentes primero → 3 ** 2 = 9\n",
            "Paso 2: Multiplicación → 9 * 3 = 27\n",
            "Paso 3: División → 27 / 3 = 9\n",
            "Paso 4: Suma y resta de izquierda a derecha → 3 - 3 + 9 = 9\n",
            "\n"
          ]
        }
      ]
    }
  ]
}