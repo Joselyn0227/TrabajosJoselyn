{
  "nbformat": 4,
  "nbformat_minor": 0,
  "metadata": {
    "colab": {
      "provenance": [],
      "include_colab_link": true
    },
    "kernelspec": {
      "name": "python3",
      "display_name": "Python 3"
    },
    "language_info": {
      "name": "python"
    }
  },
  "cells": [
    {
      "cell_type": "markdown",
      "metadata": {
        "id": "view-in-github",
        "colab_type": "text"
      },
      "source": [
        "<a href=\"https://colab.research.google.com/github/Joselyn0227/TrabajosJoselyn/blob/main/Ejercicios.ipynb\" target=\"_parent\"><img src=\"https://colab.research.google.com/assets/colab-badge.svg\" alt=\"Open In Colab\"/></a>"
      ]
    },
    {
      "cell_type": "markdown",
      "source": [
        "# EJERCICIOS PROPUESTOS"
      ],
      "metadata": {
        "id": "HGD5rhV6EuyN"
      }
    },
    {
      "cell_type": "markdown",
      "source": [
        "## OBJETIVO"
      ],
      "metadata": {
        "id": "OukVdcn2E1PE"
      }
    },
    {
      "cell_type": "markdown",
      "source": [
        "Incrementar la comprensión del Lenguaje Python a través de Ejercicios Prácticos que desarrollaran a lo largo del Semestre.\n",
        "Las personas a responder se asignarán mediante la Rueda de la Fortuna.\n",
        "El valor, de cada persona que muestre su solución, es 1 unidad."
      ],
      "metadata": {
        "id": "q2kyqrZWE-OM"
      }
    },
    {
      "cell_type": "markdown",
      "metadata": {
        "id": "XfxgeW0XhXGB"
      },
      "source": [
        "### **Ejercicio**\n",
        "\n",
        "1. 3 - 3 + 3 ** 2 * 3 / 3 =\n",
        "\n",
        "2. 3 * 3 - 3 + 3 * 3 / 3 + 3 =\n",
        "\n",
        "Tener presente los Operadores aritmeticos: Orden Jerarquía.\n",
        "\n",
        "3. Realize un algoritmo que capture 4 notas del mismo porcentaje, calcule el promedio y determine si gana o pierde la materia.\n",
        "\n",
        "4.  Cree una lista y luego borre un elemento de la lista.\n",
        "\n",
        "5. Agregue un nombre cualquiera a la lista.\n",
        "\n",
        "6. Ordene los elementos de la lista de menor a mayor.\n",
        "\n",
        "\n",
        "\n"
      ]
    },
    {
      "cell_type": "code",
      "source": [
        "# Ejercicio 1 ----------------------- Operaciones aritméticas\n",
        "print(\"Ejercicio de jerarquía de operadores\")\n",
        "# Definimos la expresión\n",
        "ejercicio = \"3 - 3 + 3 ** 2 * 3 / 3\"\n",
        "\n",
        "# Evaluamos la expresión\n",
        "resultado = 3 - 3 + 3 ** 2 * 3 / 3\n",
        "\n",
        "# Explicación paso a paso\n",
        "explicacion = \"\"\"\n",
        "Paso 1: Exponentes primero → 3 ** 2 = 9\n",
        "Paso 2: Multiplicación → 9 * 3 = 27\n",
        "Paso 3: División → 27 / 3 = 9\n",
        "Paso 4: Suma y resta de izquierda a derecha → 3 - 3 + 9 = 9\n",
        "\"\"\"\n",
        "\n",
        "# Imprimir todo\n",
        "print(\"Ejercicio:\", ejercicio)\n",
        "print(\"Resultado:\", resultado)\n",
        "print(\"Explicación:\", explicacion)\n",
        "\n",
        "print(\"Segundo ejercicio de jerarquía de operadores\")\n",
        "# Definimos la expresión\n",
        "ejercicio = \"3 * 3 - 3 + 3 * 3 / 3 + 3\"\n",
        "\n",
        "# Evaluamos la expresión\n",
        "resultado = 3 * 3 - 3 + 3 * 3 / 3 + 3\n",
        "\n",
        "# Explicación paso a paso\n",
        "explicacion = \"\"\"\n",
        "Paso 1: Multiplicaciones y divisiones primero → 3 * 3 = 9 ||||| → 3 * 3 = 9 ||||| → 9 / 3 = 3.0\n",
        "Paso 2: Sustituimos los resultados en la expresión → 9 - 3 + 3.0 + 3\n",
        "Paso 3: Operaciones de izquierda a derecha\n",
        "         → 9 - 3 = 6\n",
        "         → 6 + 3.0 = 9.0\n",
        "         → 9.0 + 3 = 12.0\n",
        "\n",
        "Resultado final: 12.0\n",
        "\"\"\"\n",
        "\n",
        "# Imprimir todo\n",
        "print(\"Ejercicio:\", ejercicio)\n",
        "print(\"Resultado:\", resultado)\n",
        "print(\"Explicación:\", explicacion)\n",
        "\n",
        "\n",
        "# Ejercicio 2 ----------------------- Captura de notas\n",
        "print(\" Ejercicio de notas\")\n",
        "notas = []\n",
        "for i in range(4):\n",
        "    nota = float(input(f\"Ingrese la nota {i+1}: \"))\n",
        "    notas.append(nota)\n",
        "\n",
        "promedio = sum(notas) / 4\n",
        "print(f\"Notas ingresadas: {notas}\")\n",
        "print(f\"Promedio: {promedio:.2f}\")\n",
        "\n",
        "if promedio >= 3.0:\n",
        "    print(\"¡Gana la materia!\")\n",
        "else:\n",
        "    print(\"Pierde la materia\")\n",
        "\n",
        "\n",
        "# Ejercicio 3 ----------------------- Crear lista\n",
        "print(\"Ejercicio de crear lista\")\n",
        "lista = [1, 2, 3, 4, 5]\n",
        "print(\"Lista original:\", lista)\n",
        "\n"
      ],
      "metadata": {
        "colab": {
          "base_uri": "https://localhost:8080/"
        },
        "id": "FmVTiJjZFBsa",
        "outputId": "b9c0e30b-a84f-4fcc-ae47-ed0c17a6e6cb"
      },
      "execution_count": null,
      "outputs": [
        {
          "output_type": "stream",
          "name": "stdout",
          "text": [
            "Ejercicio de jerarquía de operadores\n",
            "Ejercicio: 3 - 3 + 3 ** 2 * 3 / 3\n",
            "Resultado: 9.0\n",
            "Explicación: \n",
            "Paso 1: Exponentes primero → 3 ** 2 = 9\n",
            "Paso 2: Multiplicación → 9 * 3 = 27\n",
            "Paso 3: División → 27 / 3 = 9\n",
            "Paso 4: Suma y resta de izquierda a derecha → 3 - 3 + 9 = 9\n",
            "\n",
            "Segundo ejercicio de jerarquía de operadores\n",
            "Ejercicio: 3 * 3 - 3 + 3 * 3 / 3 + 3\n",
            "Resultado: 12.0\n",
            "Explicación: \n",
            "Paso 1: Exponentes primero → 3 ** 2 = 9\n",
            "Paso 2: Multiplicación → 9 * 3 = 27\n",
            "Paso 3: División → 27 / 3 = 9\n",
            "Paso 4: Suma y resta de izquierda a derecha → 3 - 3 + 9 = 9\n",
            "\n",
            " Ejercicio de notas\n"
          ]
        }
      ]
    }
  ]
}